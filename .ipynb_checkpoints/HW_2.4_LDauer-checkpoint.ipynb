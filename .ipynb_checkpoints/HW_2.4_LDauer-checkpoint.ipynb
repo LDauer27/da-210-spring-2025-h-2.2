{
 "cells": [
  {
   "cell_type": "markdown",
   "id": "931241ee-d37d-4d9b-84bc-3448515e9f92",
   "metadata": {},
   "source": [
    "Luke Dauer\n",
    "## Load Data\n",
    "\n",
    "Copy/paste the following code block to the code cell below and make sure it runs without error:"
   ]
  },
  {
   "cell_type": "code",
   "execution_count": 5,
   "id": "d3cc1e60-7647-49ac-96b8-a7ea171ecefc",
   "metadata": {},
   "outputs": [],
   "source": [
    "import pandas as pd \n",
    "\n",
    "# load sample csv\n",
    "df_gss_sample = pd.read_csv('data/gss_sample.csv', index_col=0, low_memory=False, encoding='utf8') \n",
    "\n",
    "# load rows counts of full data\n",
    "gss_full_row_counts = pd.read_csv('data/gss_full_row_counts.csv', index_col=0, low_memory=False, encoding='utf8')\n",
    "\n",
    "# load years per variable data\n",
    "gss_years_per_var = pd.read_csv('meta/gss_data_years_per_var.csv', index_col=0, low_memory=False, encoding='utf8')\n",
    "\n",
    "# load data dictionary\n",
    "gss_data_dictionary =  pd.read_csv('meta/gss_data_dictionary.csv', index_col=0, low_memory=False, encoding='latin1')"
   ]
  },
  {
   "cell_type": "markdown",
   "id": "f9d24af6-a18a-4095-9d95-2b58b65f644c",
   "metadata": {},
   "source": [
    "## Question 1\n",
    "\n",
    "In the code cell below, perform the following steps: \n",
    "\n",
    "1. Using only basic column assignment methods, use the respondent's `age` and `agewed` values in `df_gss_sample` to derive a new column called `years_since_married` that represents the number of years since the respondent was married. \n",
    "2. Using only basic column assignment methods, use the `year` and `years_since_married` variables in `df_gss_sample` to derive a new column called `approx_year_wed` that represents the approximate year the respondent was married. \n",
    "3. Display the first ten rows of the columns `year`, `age`, `agewed`, `marital`, `years_since_married`, and `approx_year_wed` in the DataFrame `df_gss_sample`\n",
    "\n",
    "```python\n",
    "# your code here \n",
    "```\n",
    "\n",
    "---"
   ]
  },
  {
   "cell_type": "code",
   "execution_count": 9,
   "id": "8534d95c-361a-4620-834c-080539b27fa5",
   "metadata": {},
   "outputs": [
    {
     "name": "stdout",
     "output_type": "stream",
     "text": [
      "       year   age  agewed  marital  years_since_married  approx_year_wed\n",
      "1247   1972  68.0    18.0      2.0                 50.0           1922.0\n",
      "31037  1994  33.0     NaN      1.0                  NaN              NaN\n",
      "50404  2006  38.0     NaN      5.0                  NaN              NaN\n",
      "34084  1996  77.0     NaN      2.0                  NaN              NaN\n",
      "38488  2000  26.0     NaN      5.0                  NaN              NaN\n",
      "24889  1989  26.0    22.0      3.0                  4.0           1985.0\n",
      "22793  1988  40.0    22.0      1.0                 18.0           1970.0\n",
      "64359  2018  43.0     NaN      5.0                  NaN              NaN\n",
      "30582  1994  43.0    23.0      3.0                 20.0           1974.0\n",
      "66423  2021  73.0     NaN      2.0                  NaN              NaN\n"
     ]
    }
   ],
   "source": [
    "df_gss_sample['years_since_married'] = df_gss_sample['age'] - df_gss_sample['agewed']\n",
    "\n",
    "df_gss_sample['approx_year_wed'] = df_gss_sample['year'] - df_gss_sample['years_since_married']\n",
    "\n",
    "print(df_gss_sample[['year', 'age', 'agewed', 'marital', 'years_since_married', 'approx_year_wed']].head(10))\n"
   ]
  },
  {
   "cell_type": "markdown",
   "id": "450ad2ed-64e2-44a5-b660-af32bf1e8176",
   "metadata": {},
   "source": [
    "## Question 2\n",
    "\n",
    "In the code cell below, perform the following steps: \n",
    "\n",
    "1. Write a function called `translate_regions` that takes a `DataFrame` row as its input. Assuming that the input `DataFrame` has the exact structure of `df_gss_sample`, write the function so that it converts each numerical code in the `reg16` and `region` columns respectively into their appropriate semantic/string categories.\n",
    "2. Call the function on `df_gss_sample` using the `apply()` method and capture the results as new columns in `df_gss_sample` called `reg16_trans` and `region_trans` respectively.\n",
    "3. Display the first ten rows of the columns `reg16`, `region`, `reg16_trans`, and `region_trans` in the DataFrame `df_gss_sample`\n",
    "\n",
    "__Hint:__ Use the`regions` dictionary in the code cell below in your function. You may also need to handle some cases where the column value is not found in the dictionary.\n",
    "\n",
    "```python\n",
    "# your code here \n",
    "```\n",
    "\n",
    "---"
   ]
  },
  {
   "cell_type": "code",
   "execution_count": 13,
   "id": "475068a0-699d-4e86-bf21-0996e7dd4d99",
   "metadata": {},
   "outputs": [
    {
     "name": "stdout",
     "output_type": "stream",
     "text": [
      "       reg16  region         reg16_trans        region_trans\n",
      "1247     2.0       5     Middle Atlantic      South Atlantic\n",
      "31037    5.0       5      South Atlantic      South Atlantic\n",
      "50404    7.0       7  West South Central  West South Central\n",
      "34084    5.0       5      South Atlantic      South Atlantic\n",
      "38488    2.0       9     Middle Atlantic             Pacific\n",
      "24889    8.0       8            Mountain            Mountain\n",
      "22793    5.0       5      South Atlantic      South Atlantic\n",
      "64359    7.0       7  West South Central  West South Central\n",
      "30582    2.0       2     Middle Atlantic     Middle Atlantic\n",
      "66423    3.0       3  East North Central  East North Central\n"
     ]
    }
   ],
   "source": [
    "regions = {\n",
    "    1: \"New England\",\n",
    "    2: \"Middle Atlantic\",\n",
    "    3: \"East North Central\",\n",
    "    4: \"West North Central\",\n",
    "    5: \"South Atlantic\",\n",
    "    6: \"East South Central\",\n",
    "    7: \"West South Central\",\n",
    "    8: \"Mountain\",\n",
    "    9: \"Pacific\"\n",
    "}\n",
    "\n",
    "def translate_regions(row):\n",
    "    reg16_trans = regions.get(row['reg16'], \"Unknown\")  \n",
    "    region_trans = regions.get(row['region'], \"Unknown\") \n",
    "    return pd.Series([reg16_trans, region_trans])\n",
    "\n",
    "df_gss_sample[['reg16_trans', 'region_trans']] = df_gss_sample.apply(translate_regions, axis=1)\n",
    "\n",
    "print(df_gss_sample[['reg16', 'region', 'reg16_trans', 'region_trans']].head(10))\n"
   ]
  },
  {
   "cell_type": "markdown",
   "id": "2c277649-0be4-4945-ad83-0e8283557cf9",
   "metadata": {},
   "source": [
    "## Question 3\n",
    "\n",
    "In the code cell below, perform the following steps: \n",
    "\n",
    "1. Subset the `df_gss_sample` DataFrame so that you are working only with the `prestg10` and `sibs` columns.\n",
    "2. Using `groupby` and `agg` methods, group your subset DataFrame on the respondent's number of siblings and display summary columns for: (a) the mean `prestg10` for each `sibs` count; and (2) the number of rows (n) used for each mean value.\n",
    "3. Display all 28 rows of the grouped and aggregated DataFrame in the code cell below\n",
    "4. In the markdown cell below, explain whether the mean `prestg10` scores suggest a relationship between professional prestige and number of siblings.\n",
    "\n",
    "\n",
    "```python\n",
    "# your code here \n",
    "```\n",
    "\n",
    "```python\n",
    "[Your markdown here]\n",
    "```\n",
    "\n",
    "---"
   ]
  },
  {
   "cell_type": "code",
   "execution_count": 17,
   "id": "0a6735b9-72d8-4955-b25d-659f4027fb5b",
   "metadata": {},
   "outputs": [
    {
     "name": "stdout",
     "output_type": "stream",
     "text": [
      " sibs  mean_prestige  count\n",
      "  0.0      47.315476    168\n",
      "  1.0      45.131059    557\n",
      "  2.0      45.145234    661\n",
      "  3.0      43.897727    528\n",
      "  4.0      42.340050    397\n",
      "  5.0      42.086275    255\n",
      "  6.0      43.210000    200\n",
      "  7.0      39.595506    178\n",
      "  8.0      41.018868    106\n",
      "  9.0      38.282051     78\n",
      " 10.0      37.942857     35\n",
      " 11.0      37.488372     43\n",
      " 12.0      38.615385     26\n",
      " 13.0      40.500000     20\n",
      " 14.0      38.454545     11\n",
      " 15.0      41.125000      8\n",
      " 16.0      33.000000      4\n",
      " 17.0      33.666667      3\n",
      " 18.0      43.000000      2\n",
      " 19.0      46.000000      1\n",
      " 21.0      31.500000      2\n",
      " 22.0            NaN      0\n",
      " 23.0      52.000000      1\n",
      " 24.0      40.000000      1\n",
      " 25.0      48.000000      1\n",
      " 27.0      28.000000      1\n"
     ]
    }
   ],
   "source": [
    "subset_df = df_gss_sample[['prestg10', 'sibs']]\n",
    "\n",
    "grouped_df = subset_df.groupby('sibs').agg(mean_prestige=('prestg10', 'mean'),  count=('prestg10', 'count')).reset_index()  \n",
    "\n",
    "print(grouped_df.to_string(index=False))\n"
   ]
  },
  {
   "cell_type": "markdown",
   "id": "cc54e1c3-9796-45fc-aa4c-20970f307fc0",
   "metadata": {},
   "source": [
    "### Relationship Between Prestige and Number of Siblings\n",
    "The grouped data shows how occupational prestige varies with the number of siblings. If the mean prestg10 scores decline as sibs increases, this might suggest that people in larger families tend to have lower professional prestige, possibly due to resource distribution among siblings."
   ]
  },
  {
   "cell_type": "markdown",
   "id": "19084455-4e4b-4dfb-ab0c-809caf0c403a",
   "metadata": {},
   "source": [
    "## Question 4\n",
    "\n",
    "In the code cell below, perform the following steps: \n",
    "\n",
    "1. Building on Question 3, alter your subset from the `df_gss_sample` DataFrame so that you are working with the `fund16` column (how fundamentalist was the respondent at age 16), in addition to the `prestg10` and `sibs` columns.\n",
    "2. Using `groupby` and `agg` methods, group the subset DataFrame on the `sibs` column, and subgroup on the `fund16` column. Display summary columns for: (a) the mean `prestg10` for each `sibs` count; and (b) the number of rows (n) used for each mean value for each combination of `fund16` and `sibs` values. \n",
    "3. Display the entirety of the grouped and aggregated DataFrame in the code cell below\n",
    "4. In the markdown cell below, explain how controlling for religiousity in this way affects your interpretation of the association between professional prestige and number of siblings.\n",
    "\n",
    "```python\n",
    "# your code here \n",
    "```\n",
    "\n",
    "[Your markdown here]"
   ]
  },
  {
   "cell_type": "code",
   "execution_count": 28,
   "id": "f399993c-70bc-40b8-9721-e2eacdfe5ed0",
   "metadata": {},
   "outputs": [
    {
     "name": "stdout",
     "output_type": "stream",
     "text": [
      "    sibs  fund16  mean_prestige  count\n",
      "0    0.0     1.0      44.900000     40\n",
      "1    0.0     2.0      46.523810     63\n",
      "2    0.0     3.0      50.264151     53\n",
      "3    1.0     1.0      43.687023    131\n",
      "4    1.0     2.0      43.867220    241\n",
      "5    1.0     3.0      48.164474    152\n",
      "6    2.0     1.0      43.312500    160\n",
      "7    2.0     2.0      44.921053    304\n",
      "8    2.0     3.0      46.857955    176\n",
      "9    3.0     1.0      42.520958    167\n",
      "10   3.0     2.0      43.792793    222\n",
      "11   3.0     3.0      45.387387    111\n",
      "12   4.0     1.0      40.881890    127\n",
      "13   4.0     2.0      42.721311    183\n",
      "14   4.0     3.0      43.312500     64\n",
      "15   5.0     1.0      41.670732     82\n",
      "16   5.0     2.0      40.992000    125\n",
      "17   5.0     3.0      45.454545     33\n",
      "18   6.0     1.0      42.477612     67\n",
      "19   6.0     2.0      44.337079     89\n",
      "20   6.0     3.0      41.696970     33\n",
      "21   7.0     1.0      38.054545     55\n",
      "22   7.0     2.0      40.107692     65\n",
      "23   7.0     3.0      42.433333     30\n",
      "24   8.0     1.0      39.024390     41\n",
      "25   8.0     2.0      42.644444     45\n",
      "26   8.0     3.0      39.000000     14\n",
      "27   9.0     1.0      38.354839     31\n",
      "28   9.0     2.0      36.885714     35\n",
      "29   9.0     3.0      43.000000     11\n",
      "30  10.0     1.0      41.684211     19\n",
      "31  10.0     2.0      29.454545     11\n",
      "32  10.0     3.0      46.750000      4\n",
      "33  11.0     1.0      39.880000     25\n",
      "34  11.0     2.0      35.916667     12\n",
      "35  11.0     3.0      30.600000      5\n",
      "36  12.0     1.0      37.142857     14\n",
      "37  12.0     2.0      42.875000      8\n",
      "38  12.0     3.0      35.250000      4\n",
      "39  13.0     1.0      42.400000     10\n",
      "40  13.0     2.0      35.888889      9\n",
      "41  14.0     1.0      37.166667      6\n",
      "42  14.0     2.0      40.000000      5\n",
      "43  15.0     1.0      30.000000      2\n",
      "44  15.0     2.0      44.833333      6\n",
      "45  16.0     1.0      29.500000      2\n",
      "46  16.0     2.0      36.500000      2\n",
      "47  17.0     1.0      38.000000      2\n",
      "48  17.0     2.0      25.000000      1\n",
      "49  18.0     1.0      43.000000      2\n",
      "50  19.0     1.0      46.000000      1\n",
      "51  21.0     1.0      38.000000      1\n",
      "52  21.0     2.0      25.000000      1\n",
      "53  22.0     2.0            NaN      0\n",
      "54  23.0     3.0      52.000000      1\n",
      "55  24.0     2.0      40.000000      1\n",
      "56  27.0     2.0      28.000000      1\n"
     ]
    }
   ],
   "source": [
    "subset_df = df_gss_sample[['prestg10', 'sibs', 'fund16']]\n",
    "\n",
    "grouped_df = subset_df.groupby(['sibs', 'fund16']).agg(mean_prestige=('prestg10', 'mean'),  count=('prestg10', 'count')).reset_index()  \n",
    "\n",
    "print(grouped_df.to_string())\n"
   ]
  },
  {
   "cell_type": "markdown",
   "id": "63408b3c-4847-4fe0-b521-91c7ccbb1547",
   "metadata": {},
   "source": [
    "### Controlling for Religious Fundamentalism in Prestige & Siblings Analysis\n",
    "Adding fund16 as a control variable allows us to see how religious upbringing interacts with professional prestige and family size. If prestige scores vary significantly across different levels of fund16, this suggests that religious background may influence career paths independently of family size."
   ]
  },
  {
   "cell_type": "code",
   "execution_count": null,
   "id": "b15cfe28-df9a-4c9c-ae05-72979982f93f",
   "metadata": {},
   "outputs": [],
   "source": []
  }
 ],
 "metadata": {
  "kernelspec": {
   "display_name": "Python [conda env:base] *",
   "language": "python",
   "name": "conda-base-py"
  },
  "language_info": {
   "codemirror_mode": {
    "name": "ipython",
    "version": 3
   },
   "file_extension": ".py",
   "mimetype": "text/x-python",
   "name": "python",
   "nbconvert_exporter": "python",
   "pygments_lexer": "ipython3",
   "version": "3.12.3"
  }
 },
 "nbformat": 4,
 "nbformat_minor": 5
}
