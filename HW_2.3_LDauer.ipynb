{
 "cells": [
  {
   "cell_type": "markdown",
   "id": "0ebc26aa-d5b7-4cb9-86b3-18bef726d2ee",
   "metadata": {},
   "source": [
    "Luke Dauer\n",
    "\n",
    "# DA 210 -- Spring 2025 -- Homework 2.3 -- Professor Lavin\n",
    "\n",
    "## Directions \n",
    "\n",
    "1. These questions will _mostly_ focus on tabular data and Pandas, which will likely include new material, as well as some review and deepening of CS-11x.\n",
    "2. Don't forget to add your name above. You can edit the markdown by double-clicking on the cell. \n",
    "3. Save your work often and commit your changes using git/Github Desktop.\n",
    "4. When you are finished, save your work, convert the Jupytext Notebook to .html format, and submit the HTML file on Canvas.\n",
    "5. When you have completed homework 2.1 - 2.4, push your updated repo to Github.com.\n",
    "\n",
    "__Reminders:__ \n",
    "\n",
    "- You are not permitted to get the answers from a classmate or to use Github Copilot, chatGPT, etc. on this homework. These exercises are for practice so, if you use outside help in a way that's not permitted, you are only cheating yourself out of a chance to learn and prepare for future quizzes and tests. \n",
    "- Working with an ARC tutor and visiting our TA's office hours are both permitted, but they should be provide advice and support, and you should not expect them to do your work for you. \n",
    "\n",
    "\n",
    "---\n",
    "\n",
    "## Load Data\n",
    "\n",
    "Copy/paste the following code block to the code cell below and make sure it runs without error:\n"
   ]
  },
  {
   "cell_type": "code",
   "execution_count": 4,
   "id": "9d458031-a9f7-439c-bbc6-32b9ab2d0987",
   "metadata": {},
   "outputs": [],
   "source": [
    "import pandas as pd \n",
    "\n",
    "# load sample csv\n",
    "df_gss_sample = pd.read_csv('data/gss_sample.csv', index_col=0, low_memory=False, encoding='utf8') \n",
    "\n",
    "# load rows counts of full data\n",
    "gss_full_row_counts = pd.read_csv('data/gss_full_row_counts.csv', index_col=0, low_memory=False, encoding='utf8')\n",
    "\n",
    "# load years per variable data\n",
    "gss_years_per_var = pd.read_csv('meta/gss_data_years_per_var.csv', index_col=0, low_memory=False, encoding='utf8')\n",
    "\n",
    "# load data dictionary\n",
    "gss_data_dictionary =  pd.read_csv('meta/gss_data_dictionary.csv', index_col=0, low_memory=False, encoding='latin1')"
   ]
  },
  {
   "cell_type": "markdown",
   "id": "fa25d412-0482-4200-879d-63c1812949bf",
   "metadata": {},
   "source": [
    "\n",
    "## Question 1\n",
    "\n",
    "In the code cell below, print the row count of all values for the `divorce` variable in `df_gss_sample`, as well as a row count for the same variable after dropping all `NA` values in that column.\n",
    "\n",
    "```python\n",
    "# your code here \n",
    "```\n",
    "\n",
    "---"
   ]
  },
  {
   "cell_type": "code",
   "execution_count": 8,
   "id": "bf8d1758-7e4c-4536-bf1a-a22789a341a8",
   "metadata": {},
   "outputs": [
    {
     "name": "stdout",
     "output_type": "stream",
     "text": [
      "Total rows (including NA): 1247     2.0\n",
      "31037    1.0\n",
      "50404    NaN\n",
      "34084    2.0\n",
      "38488    NaN\n",
      "        ... \n",
      "20759    2.0\n",
      "19640    2.0\n",
      "40060    NaN\n",
      "58155    2.0\n",
      "9550     2.0\n",
      "Name: divorce, Length: 3600, dtype: float64\n",
      "Total rows (excluding NA): 1247     2.0\n",
      "31037    1.0\n",
      "34084    2.0\n",
      "22793    2.0\n",
      "66423    2.0\n",
      "        ... \n",
      "68774    2.0\n",
      "20759    2.0\n",
      "19640    2.0\n",
      "58155    2.0\n",
      "9550     2.0\n",
      "Name: divorce, Length: 2211, dtype: float64\n"
     ]
    }
   ],
   "source": [
    "print(df_gss_sample['divorce'])\n",
    "\n",
    "print(df_gss_sample['divorce'].dropna())\n"
   ]
  },
  {
   "cell_type": "markdown",
   "id": "94e7a841-e13a-4696-b865-313ccd6d0eee",
   "metadata": {},
   "source": [
    "## Question 2\n",
    "\n",
    "In the code cell below, use a `loc` method to display the number of rows in `df_gss_sample` with an `hrs1` value greater than or equal to 40 and a `year` value for an odd numbered year. \n",
    "\n",
    "```python\n",
    "# your code here \n",
    "```\n",
    "\n",
    "---"
   ]
  },
  {
   "cell_type": "code",
   "execution_count": 59,
   "id": "ef6ef80a-7eda-4c04-b535-be4043e02432",
   "metadata": {},
   "outputs": [
    {
     "name": "stdout",
     "output_type": "stream",
     "text": [
      "       year    id  wrkstat  hrs1  hrs2  evwork    occ  prestige  wrkslf  \\\n",
      "24889  1989  1534      1.0  40.0   NaN     NaN  141.0      43.0     2.0   \n",
      "1618   1973     6      1.0  52.0   NaN     NaN  441.0      45.0     2.0   \n",
      "67717  2021  3193      1.0  40.0   NaN     NaN    NaN       NaN     2.0   \n",
      "8494   1977   905      1.0  40.0   NaN     NaN  754.0      17.0     2.0   \n",
      "4803   1975   203      1.0  50.0   NaN     NaN  801.0      41.0     1.0   \n",
      "...     ...   ...      ...   ...   ...     ...    ...       ...     ...   \n",
      "21139  1987  1084      1.0  44.0   NaN     NaN  751.0      17.0     2.0   \n",
      "67736  2021  3213      1.0  45.0   NaN     NaN    NaN       NaN     2.0   \n",
      "14992  1983  1013      1.0  56.0   NaN     NaN   86.0      69.0     2.0   \n",
      "26764  1991   500      1.0  40.0   NaN     NaN    NaN       NaN     2.0   \n",
      "28009  1993   228      1.0  40.0   NaN     NaN    NaN       NaN     2.0   \n",
      "\n",
      "       wrkgovt  ...  agehef12  agehef13  agehef14  hompoph  wtssps_nea  \\\n",
      "24889      NaN  ...       NaN       NaN       NaN      NaN         NaN   \n",
      "1618       NaN  ...       NaN       NaN       NaN      NaN         NaN   \n",
      "67717      NaN  ...       NaN       NaN       NaN      NaN         NaN   \n",
      "8494       NaN  ...       NaN       NaN       NaN      NaN         NaN   \n",
      "4803       NaN  ...       NaN       NaN       NaN      NaN         NaN   \n",
      "...        ...  ...       ...       ...       ...      ...         ...   \n",
      "21139      NaN  ...       NaN       NaN       NaN      NaN         NaN   \n",
      "67736      NaN  ...       NaN       NaN       NaN      NaN         NaN   \n",
      "14992      NaN  ...       NaN       NaN       NaN      NaN         NaN   \n",
      "26764      NaN  ...       NaN       NaN       NaN      NaN         NaN   \n",
      "28009      NaN  ...       NaN       NaN       NaN      NaN         NaN   \n",
      "\n",
      "       wtssnrps_nea  wtssps_next  wtssnrps_next  wtsscomp  wtsscompnr  \n",
      "24889           NaN          NaN            NaN  0.531027         NaN  \n",
      "1618            NaN          NaN            NaN  1.371700         NaN  \n",
      "67717           NaN          NaN            NaN  0.564839    0.564839  \n",
      "8494            NaN          NaN            NaN  0.988100         NaN  \n",
      "4803            NaN          NaN            NaN  1.863900         NaN  \n",
      "...             ...          ...            ...       ...         ...  \n",
      "21139           NaN          NaN            NaN  1.010400         NaN  \n",
      "67736           NaN          NaN            NaN  0.335220    0.335220  \n",
      "14992           NaN          NaN            NaN  1.011600         NaN  \n",
      "26764           NaN          NaN            NaN  0.806530         NaN  \n",
      "28009           NaN          NaN            NaN  1.372480         NaN  \n",
      "\n",
      "[385 rows x 6693 columns]\n"
     ]
    }
   ],
   "source": [
    "filter_df = df_gss_sample.loc[(df_gss_sample['hrs1'] >= 40) & (df_gss_sample['year'] % 2 != 0)]\n",
    "\n",
    "print(filter_df)\n"
   ]
  },
  {
   "cell_type": "markdown",
   "id": "25b553f1-98ff-4f71-90f1-f24bb15196c5",
   "metadata": {},
   "source": [
    "## Question 3\n",
    "\n",
    "In the code cell below, use a `loc` method to display the number of rows in `df_gss_sample` where the occupation code from the 2010 U.S. Census is any of: 'Computer and information research scientists', 'Computer programmers', or 'Postsecondary teachers'. \n",
    "\n",
    "__Hint:__ For a list of 2010 U.S. Census occupation codes and their meanings, see https://www.bls.gov/cps/cenocc2010.htm\n",
    "\n",
    "\n",
    "```python\n",
    "# your code here \n",
    "```\n",
    "\n",
    "---\n"
   ]
  },
  {
   "cell_type": "code",
   "execution_count": 37,
   "id": "b275609f-6397-49ba-8866-02f5f0c33bd0",
   "metadata": {},
   "outputs": [
    {
     "name": "stdout",
     "output_type": "stream",
     "text": [
      "Empty DataFrame\n",
      "Columns: [year, id, wrkstat, hrs1, hrs2, evwork, occ, prestige, wrkslf, wrkgovt, commute, industry, occ80, prestg80, indus80, indus07, occonet, found, occ10, occindv, occstatus, occtag, prestg10, prestg105plus, indus10, indstatus, indtag, marital, martype, agewed, divorce, widowed, spwrksta, sphrs1, sphrs2, spevwork, cowrksta, cowrkslf, coevwork, cohrs1, cohrs2, spocc, sppres, spwrkslf, spind, spocc80, sppres80, spind80, spocc10, spoccindv, spoccstatus, spocctag, sppres10, sppres105plus, spind10, spindstatus, spindtag, coocc10, coind10, paocc16, papres16, pawrkslf, paind16, paocc80, papres80, paind80, paocc10, paoccindv, paoccstatus, paocctag, papres10, papres105plus, paind10, paindstatus, paindtag, maocc80, mapres80, mawrkslf, maind80, maocc10, maoccindv, maoccstatus, maocctag, mapres10, mapres105plus, maind10, maindstatus, maindtag, sibs, childs, age, agekdbrn, educ, paeduc, maeduc, speduc, coeduc, codeg, degree, padeg, ...]\n",
      "Index: []\n",
      "\n",
      "[0 rows x 6693 columns]\n"
     ]
    }
   ],
   "source": [
    "target_codes = [1005, 1010, 2200]\n",
    "\n",
    "target_df = df_gss_sample.loc[df_gss_sample['occ'].isin(target_codes)]\n",
    "\n",
    "print(target_df)\n"
   ]
  },
  {
   "cell_type": "markdown",
   "id": "586fb289-0c50-4996-a13f-3af0f1eaaceb",
   "metadata": {},
   "source": [
    "## Question 4 \n",
    "\n",
    "Use a `loc` method and `str.contains` to search through the variables described in `gss_data_dictionary` and print a list of all variable names where the word 'computer' is in the variable's `label` column. Note that you may need to drop `NA`s from the `label` column before `str.contains` will work properly.\n",
    "\n",
    "```python\n",
    "# your code here \n",
    "```\n",
    "\n",
    "---"
   ]
  },
  {
   "cell_type": "code",
   "execution_count": 51,
   "id": "565c3f7a-f58f-463f-8ed2-aae15a7e65b7",
   "metadata": {},
   "outputs": [
    {
     "name": "stdout",
     "output_type": "stream",
     "text": [
      "['monitred', 'compuse', 'cmpvirus', 'comphome', 'usehome', 'numhome', 'ecomminh', 'ecomhrh', 'perminh', 'perhrh', 'wrkminh', 'wrkhrh', 'emminh', 'emhrh', 'wwwminh', 'wwwhrh', 'compwork', 'jobminw', 'jobhrw', 'incminw', 'inchrw', 'ecomminw', 'ecomhrw', 'perminw', 'perhrw', 'emminw', 'emhrw', 'wwwminw', 'wwwhrw', 'compoth', 'compschl', 'complib', 'compfri', 'compelse', 'mostloc', 'ecommino', 'ecomhro', 'permino', 'perhro', 'wrkmino', 'wrkhro', 'emmino', 'emhro', 'wwwmino', 'wwwhro', 'cmprgmng', 'wkcomptr', 'wocomptr', 'autonojb', 'databank', 'askcomp', 'comsteal', 'comdata', 'comsys', 'comsnoop']\n"
     ]
    }
   ],
   "source": [
    "filter_dict = gss_data_dictionary.dropna(subset=['label'])\n",
    "\n",
    "computer_vars = filter_dict[filter_dict['label'].str.contains('computer')]\n",
    "\n",
    "computer_vars = computer_vars['variable']\n",
    "\n",
    "print(computer_vars.tolist())\n",
    "\n"
   ]
  },
  {
   "cell_type": "markdown",
   "id": "6830ba84-eaed-455d-bb53-3974e4f08bd7",
   "metadata": {},
   "source": [
    "## Question 5\n",
    "\n",
    "Use a `loc` method and `str.contains` to search through the variables described in `gss_data_dictionary` and print a list of all variable names containing any of the words 'rating', 'scale', or 'score'. You can achieve this result with three separate `loc` conditions, or a single regular expression statement. Note that you may need to drop `NA`s from the `label` column before `str.contains` will work properly."
   ]
  },
  {
   "cell_type": "code",
   "execution_count": 57,
   "id": "281a98bc-d579-4009-bad7-f9f242ae4b1f",
   "metadata": {},
   "outputs": [
    {
     "name": "stdout",
     "output_type": "stream",
     "text": [
      "['prestige', 'prestg80', 'prestg10', 'prestg105plus', 'sppres', 'sppres80', 'sppres10', 'sppres105plus', 'papres16', 'papres80', 'papres10', 'papres105plus', 'mapres80', 'mapres10', 'mapres105plus', 'dotpres', 'spdotpre', 'padotpre', 'trauma1', 'trauma5', 'kdpres80', 'kdpres10', 'kdpres105plus', 'sbpres80', 'sbpres10', 'sbpres105plus', 'huclean', 'lifenow', 'lifein5', 'nanoknw2', 'disabld6', 'famper2', 'copres10', 'copres105plus', 'rlooks', 'rgroomed', 'rweight', 'rhlthend', 'perfrt']\n"
     ]
    }
   ],
   "source": [
    "filter_dict = gss_data_dictionary.dropna(subset=['label'])\n",
    "\n",
    "rating_vars = filter_dict.loc[filter_dict['label'].str.contains('rating|scale|score'), 'variable']\n",
    "\n",
    "print(rating_vars.tolist())\n"
   ]
  },
  {
   "cell_type": "code",
   "execution_count": null,
   "id": "d3fbb493-773f-4879-a1c9-f5108033f8b1",
   "metadata": {},
   "outputs": [],
   "source": []
  }
 ],
 "metadata": {
  "kernelspec": {
   "display_name": "Python [conda env:base] *",
   "language": "python",
   "name": "conda-base-py"
  },
  "language_info": {
   "codemirror_mode": {
    "name": "ipython",
    "version": 3
   },
   "file_extension": ".py",
   "mimetype": "text/x-python",
   "name": "python",
   "nbconvert_exporter": "python",
   "pygments_lexer": "ipython3",
   "version": "3.12.3"
  }
 },
 "nbformat": 4,
 "nbformat_minor": 5
}
